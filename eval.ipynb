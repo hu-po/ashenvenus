{
 "cells": [
  {
   "cell_type": "code",
   "execution_count": null,
   "metadata": {},
   "outputs": [],
   "source": [
    "# WHEN SUBMITTING FOR KAGGLE\n",
    "# COPY PASTE src.py DIRECTLY HERE\n",
    "# THEN MAKE SURE HPARAMS MATCH\n",
    "from src import eval, eval_from_episode_dir\n",
    "\n",
    "episode_dir = \"C:\\\\Users\\\\ook\\\\Documents\\\\dev\\\\ashenvenus\\\\output_04042023\\\\29d55a5f\"\n",
    "eval_from_episode_dir(episode_dir)"
   ]
  },
  {
   "cell_type": "code",
   "execution_count": null,
   "metadata": {},
   "outputs": [],
   "source": [
    "eval(\n",
    "    train_dir = '/kaggle/input/vesuvius-challenge-ink-detection/train',\n",
    "    output_dir = '/kaggle/working',\n",
    "    eval_dir = '/kaggle/input/vesuvius-challenge-ink-detection/test',\n",
    "    weights_filepath = '/kaggle/input/convnextimagenet/convnext_tiny-983f1562.pth',\n",
    "    model = 'convnext_tiny',\n",
    "    slice_depth=65,\n",
    "    patch_size_x=64,\n",
    "    patch_size_y=64,\n",
    "    resize_ratio=0.08,\n",
    "    use_gelu=False,\n",
    "    freeze=False,\n",
    "    batch_size=32,\n",
    "    num_workers=0,\n",
    "    save_pred_img=False,\n",
    "    save_submit_csv=True,\n",
    "    postproc_kernel=3,\n",
    "    threshold=0.5,\n",
    ")"
   ]
  }
 ],
 "metadata": {
  "kernelspec": {
   "display_name": "base",
   "language": "python",
   "name": "python3"
  },
  "language_info": {
   "codemirror_mode": {
    "name": "ipython",
    "version": 3
   },
   "file_extension": ".py",
   "mimetype": "text/x-python",
   "name": "python",
   "nbconvert_exporter": "python",
   "pygments_lexer": "ipython3",
   "version": "3.9.16"
  },
  "orig_nbformat": 4
 },
 "nbformat": 4,
 "nbformat_minor": 2
}
