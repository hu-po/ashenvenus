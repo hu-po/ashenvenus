{
 "cells": [
  {
   "cell_type": "code",
   "execution_count": null,
   "metadata": {},
   "outputs": [],
   "source": [
    "import numpy as np\n",
    "from hyperopt import fmin, tpe\n",
    "from src import sweep_episode\n",
    "from sweep import search_space\n",
    "\n",
    "# Override the search space with the test config\n",
    "search_space['train_dir'] = \"C:\\\\Users\\\\ook\\\\Documents\\\\dev\\\\ashenvenus\\\\data\\\\train\"\n",
    "search_space['eval_dir'] = \"C:\\\\Users\\\\ook\\\\Documents\\\\dev\\\\ashenvenus\\\\data\\\\test\"\n",
    "search_space['output_dir'] = \"C:\\\\Users\\\\ook\\\\Documents\\\\dev\\\\ashenvenus\\\\output\"\n",
    "search_space['batch_size'] = 32    \n",
    "\n",
    "# # Test Config\n",
    "# search_space['num_samples'] = 64\n",
    "# search_space['num_epochs'] = 2\n",
    "# search_space['slice_depth'] = 2\n",
    "# search_space['resize_ratio'] = 0.05\n",
    "\n",
    "# Run the optimization\n",
    "best = fmin(\n",
    "    sweep_episode,\n",
    "    space=search_space,\n",
    "    algo=tpe.suggest,\n",
    "    max_evals=100,\n",
    "    rstate=np.random.Generator(np.random.PCG64(42)),\n",
    ")"
   ]
  }
 ],
 "metadata": {
  "kernelspec": {
   "display_name": "base",
   "language": "python",
   "name": "python3"
  },
  "language_info": {
   "name": "python",
   "version": "3.9.16"
  },
  "orig_nbformat": 4
 },
 "nbformat": 4,
 "nbformat_minor": 2
}
