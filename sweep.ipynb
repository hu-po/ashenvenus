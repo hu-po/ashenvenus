{
 "cells": [
  {
   "cell_type": "code",
   "execution_count": null,
   "metadata": {},
   "outputs": [],
   "source": [
    "import shutil\n",
    "\n",
    "import numpy as np\n",
    "from hyperopt import fmin, tpe\n",
    "\n",
    "from src import sweep_episode\n",
    "from sweep import search_space\n",
    "\n",
    "# Override the search space with the test config\n",
    "search_space['train_dir'] = \"C:\\\\Users\\\\ook\\\\Documents\\\\dev\\\\ashenvenus\\\\data\\\\split_train\"\n",
    "search_space['eval_dir'] = \"C:\\\\Users\\\\ook\\\\Documents\\\\dev\\\\ashenvenus\\\\data\\\\split_valid\"\n",
    "search_space['output_dir'] = \"C:\\\\Users\\\\ook\\\\Documents\\\\dev\\\\ashenvenus\\\\output\"\n",
    "search_space['batch_size'] = 64\n",
    "\n",
    "# Test Config\n",
    "print('\\n\\n Running in TEST mode \\n\\n')\n",
    "search_space['interpolation'] = 'nearest'\n",
    "search_space['curriculum'] = '1'\n",
    "search_space['num_samples'] = 64\n",
    "search_space['num_epochs'] = 2\n",
    "search_space['resize_ratio'] = 0.02\n",
    "\n",
    "# Clean output dir\n",
    "shutil.rmtree(search_space['output_dir'], ignore_errors=True)\n",
    "\n",
    "# Run the optimization\n",
    "best = fmin(\n",
    "    sweep_episode,\n",
    "    space=search_space,\n",
    "    algo=tpe.suggest,\n",
    "    max_evals=3,\n",
    "    rstate=np.random.Generator(np.random.PCG64(42)),\n",
    ")"
   ]
  }
 ],
 "metadata": {
  "kernelspec": {
   "display_name": "base",
   "language": "python",
   "name": "python3"
  },
  "language_info": {
   "codemirror_mode": {
    "name": "ipython",
    "version": 3
   },
   "file_extension": ".py",
   "mimetype": "text/x-python",
   "name": "python",
   "nbconvert_exporter": "python",
   "pygments_lexer": "ipython3",
   "version": "3.9.16"
  },
  "orig_nbformat": 4
 },
 "nbformat": 4,
 "nbformat_minor": 2
}
