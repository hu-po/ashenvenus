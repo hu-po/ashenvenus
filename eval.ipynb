{
 "cells": [
  {
   "cell_type": "code",
   "execution_count": null,
   "metadata": {},
   "outputs": [],
   "source": [
    "# COPY PASTE src.py HERE WHEN RUNNING ON KAGGLE\n",
    "from src import eval"
   ]
  },
  {
   "cell_type": "code",
   "execution_count": null,
   "metadata": {},
   "outputs": [],
   "source": [
    "eval(\n",
    "    # train_dir = '/kaggle/input/vesuvius-challenge-ink-detection/train',\n",
    "    eval_dir = '/kaggle/input/vesuvius-challenge-ink-detection/test',\n",
    "    output_dir = '/kaggle/working',\n",
    "    weights_filepath = '/kaggle/input/convnextimagenet/convnext_tiny-983f1562.pth',\n",
    "    model = 'convnext_tiny',\n",
    "    slice_depth=65,\n",
    "    patch_size_x=64,\n",
    "    patch_size_y=64,\n",
    "    resize_ratio=0.08,\n",
    "    use_gelu=False,\n",
    "    freeze=False,\n",
    "    batch_size=32,\n",
    "    num_workers=0,\n",
    "    save_pred_img=False,\n",
    "    save_submit_csv=True,\n",
    "    postprocess=True,\n",
    "    threshold=0.5,\n",
    ")"
   ]
  }
 ],
 "metadata": {
  "language_info": {
   "name": "python"
  },
  "orig_nbformat": 4
 },
 "nbformat": 4,
 "nbformat_minor": 2
}
