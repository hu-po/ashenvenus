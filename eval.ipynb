{
 "cells": [
  {
   "cell_type": "code",
   "execution_count": null,
   "metadata": {},
   "outputs": [],
   "source": [
    "# COPY PASTE src.py HERE WHEN RUNNING ON KAGGLE\n",
    "\n",
    "from src import eval"
   ]
  },
  {
   "cell_type": "code",
   "execution_count": null,
   "metadata": {},
   "outputs": [],
   "source": [
    "train_dir = '/kaggle/input/vesuvius-challenge-ink-detection/train'\n",
    "eval_dir = '/kaggle/input/vesuvius-challenge-ink-detection/test'\n",
    "output_dir = '/kaggle/working'\n",
    "weights_filepath = '/kaggle/input/convnextimagenet/convnext_tiny-983f1562.pth'\n",
    "\n",
    "eval(\n",
    "    \n",
    ")"
   ]
  }
 ],
 "metadata": {
  "language_info": {
   "name": "python"
  },
  "orig_nbformat": 4
 },
 "nbformat": 4,
 "nbformat_minor": 2
}
