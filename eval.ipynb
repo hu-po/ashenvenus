{
 "cells": [
  {
   "cell_type": "code",
   "execution_count": null,
   "metadata": {},
   "outputs": [],
   "source": [
    "# WHEN SUBMITTING FOR KAGGLE\n",
    "# COPY PASTE src.py DIRECTLY HERE\n",
    "# THEN MAKE SURE HPARAMS MATCH\n",
    "from src import eval, eval_from_episode_dir\n",
    "\n",
    "eval_from_episode_dir(\n",
    "    episode_dir = \"C:\\\\Users\\\\ook\\\\Documents\\\\dev\\\\ashenvenus\\\\output_04042023\\\\29d55a5f\",\n",
    "    output_dir = \"C:\\\\Users\\\\ook\\\\Documents\\\\dev\\\\ashenvenus\\\\output\",\n",
    ")"
   ]
  },
  {
   "cell_type": "code",
   "execution_count": null,
   "metadata": {},
   "outputs": [],
   "source": [
    "eval(\n",
    "    train_dir = '/kaggle/input/vesuvius-challenge-ink-detection/train',\n",
    "    output_dir = '/kaggle/working',\n",
    "    eval_dir = '/kaggle/input/vesuvius-challenge-ink-detection/test',\n",
    "    weights_filepath = '/kaggle/input/convnextimagenet/convnext_tiny-983f1562.pth',\n",
    "    \n",
    "    batch_size = 1028,\n",
    "    curriculum = '321',\n",
    "    freeze = False,\n",
    "    image_augs = False,\n",
    "    lr = 0.0009151398565001475,\n",
    "    lr_gamma = 0.98,\n",
    "    max_time_hours = 8,\n",
    "    model = 'resnext50_32x4d',\n",
    "    num_epochs = 16,\n",
    "    num_samples = 60000,\n",
    "    num_workers = 0,\n",
    "    optimizer = 'adam',\n",
    "    patch_size_x = 64,\n",
    "    patch_size_y = 64,\n",
    "    postproc_kernel = 6,\n",
    "    resize_ratio = 0.08,\n",
    "    slice_depth = 65,\n",
    "    threshold = 0.5,\n",
    "    use_gelu = False,\n",
    "\n",
    "    save_pred_img=False,\n",
    "    save_submit_csv=True,\n",
    ")"
   ]
  }
 ],
 "metadata": {
  "kernelspec": {
   "display_name": "base",
   "language": "python",
   "name": "python3"
  },
  "language_info": {
   "codemirror_mode": {
    "name": "ipython",
    "version": 3
   },
   "file_extension": ".py",
   "mimetype": "text/x-python",
   "name": "python",
   "nbconvert_exporter": "python",
   "pygments_lexer": "ipython3",
   "version": "3.9.16"
  },
  "orig_nbformat": 4
 },
 "nbformat": 4,
 "nbformat_minor": 2
}
