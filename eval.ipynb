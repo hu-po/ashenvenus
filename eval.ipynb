{
 "cells": [
  {
   "cell_type": "code",
   "execution_count": null,
   "metadata": {},
   "outputs": [],
   "source": [
    "# WHEN SUBMITTING FOR KAGGLE\n",
    "# COPY PASTE src.py DIRECTLY HERE\n",
    "# THEN MAKE SURE HPARAMS MATCH BELOW\n",
    "from src import eval"
   ]
  },
  {
   "cell_type": "code",
   "execution_count": null,
   "metadata": {},
   "outputs": [],
   "source": [
    "eval(\n",
    "    output_dir='/kaggle/working',\n",
    "    eval_dir='/kaggle/input/vesuvius-challenge-ink-detection/test',\n",
    "    save_pred_img=False,\n",
    "    save_submit_csv=True,\n",
    "    # Evaluation\n",
    "    batch_size=1,\n",
    "    num_samples_eval=100,\n",
    "    points_per_side=32,\n",
    "    pred_iou_thresh=0.86,\n",
    "    stability_score_thresh=0.92,\n",
    "    crop_n_layers=1,\n",
    "    crop_n_points_downscale_factor=2,\n",
    "    min_mask_region_area=100,\n",
    "    # Model\n",
    "    model='vit_b',\n",
    "    weights_filepath='/kaggle/input/29d55a5f/model.pth',\n",
    "    # Dataset\n",
    "    crop_size=(3, 68, 68),\n",
    "    label_size=(1024, 1024),\n",
    "    points_per_crop=8,\n",
    "    avg_depth=27.,\n",
    "    std_depth=10.,\n",
    ")\n"
   ]
  }
 ],
 "metadata": {
  "kernelspec": {
   "display_name": "base",
   "language": "python",
   "name": "python3"
  },
  "language_info": {
   "codemirror_mode": {
    "name": "ipython",
    "version": 3
   },
   "file_extension": ".py",
   "mimetype": "text/x-python",
   "name": "python",
   "nbconvert_exporter": "python",
   "pygments_lexer": "ipython3",
   "version": "3.9.16"
  },
  "orig_nbformat": 4
 },
 "nbformat": 4,
 "nbformat_minor": 2
}
